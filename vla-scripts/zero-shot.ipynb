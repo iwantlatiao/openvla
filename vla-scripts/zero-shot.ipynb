{
 "cells": [
  {
   "cell_type": "code",
   "execution_count": null,
   "metadata": {},
   "outputs": [],
   "source": [
    "from transformers import AutoModelForVision2Seq, AutoProcessor\n",
    "from PIL import Image\n",
    "import torch\n",
    "# import matplotlib.pyplot as plt\n",
    "from tqdm import tqdm"
   ]
  },
  {
   "cell_type": "code",
   "execution_count": null,
   "metadata": {},
   "outputs": [],
   "source": [
    "torch.cuda.is_available()"
   ]
  },
  {
   "cell_type": "code",
   "execution_count": null,
   "metadata": {},
   "outputs": [],
   "source": [
    "# Load Processor & VLA\n",
    "processor = AutoProcessor.from_pretrained(\n",
    "    # pretrained_model_name_or_path=\"openvla/openvla-7b\", \n",
    "    pretrained_model_name_or_path=\"../saved_model/processor\", \n",
    "    trust_remote_code=True\n",
    ")\n",
    "vla = AutoModelForVision2Seq.from_pretrained(\n",
    "    # pretrained_model_name_or_path=\"openvla/openvla-7b\", \n",
    "    pretrained_model_name_or_path=\"../saved_model/vla\", \n",
    "    attn_implementation=\"flash_attention_2\",  # [Optional] Requires `flash_attn`\n",
    "    torch_dtype=torch.bfloat16, \n",
    "    low_cpu_mem_usage=True, \n",
    "    trust_remote_code=True,\n",
    "    device_map=\"auto\",\n",
    "    load_in_4bit=True,\n",
    ")"
   ]
  },
  {
   "cell_type": "code",
   "execution_count": null,
   "metadata": {},
   "outputs": [],
   "source": [
    "# save processor & vla state\n",
    "\n",
    "'''\n",
    "processor.save_pretrained(\n",
    "    save_directory=\"../saved_model/processor\"\n",
    ")\n",
    "vla.save_pretrained(\n",
    "    save_directory=\"../saved_model/vla\"\n",
    ")\n",
    "'''"
   ]
  },
  {
   "cell_type": "code",
   "execution_count": null,
   "metadata": {},
   "outputs": [],
   "source": [
    "# check vla on which device(s)\n",
    "vla.device"
   ]
  },
  {
   "cell_type": "code",
   "execution_count": null,
   "metadata": {},
   "outputs": [],
   "source": [
    "# Grab image input & format prompt\n",
    "# image: Image.Image = get_from_camera(...)\n",
    "\n",
    "image: Image.Image = Image.open(\"../data/test/2022-12-08_15-22-17/raw/traj_group0/traj0/images0/im_1.jpg\")\n",
    "\n",
    "# prompt = \"In: What action should the robot take to {<INSTRUCTION>}?\\nOut:\"\n",
    "\n",
    "prompt = \"In: What action should the robot take to pick up the cucumber?\\nOut:\""
   ]
  },
  {
   "cell_type": "code",
   "execution_count": null,
   "metadata": {},
   "outputs": [],
   "source": [
    "# check image demo\n",
    "image"
   ]
  },
  {
   "cell_type": "code",
   "execution_count": null,
   "metadata": {},
   "outputs": [],
   "source": [
    "# Predict Action (7-DoF; un-normalize for BridgeData V2)\n",
    "inputs = processor(prompt, image).to(\"cuda:0\", dtype=torch.bfloat16)\n",
    "action = vla.predict_action(**inputs, unnorm_key=\"bridge_orig\", do_sample=False)"
   ]
  },
  {
   "cell_type": "code",
   "execution_count": null,
   "metadata": {},
   "outputs": [],
   "source": [
    "# Execute...\n",
    "# robot.act(action, ...)\n",
    "\n",
    "action"
   ]
  },
  {
   "cell_type": "code",
   "execution_count": null,
   "metadata": {},
   "outputs": [],
   "source": [
    "# batch processing\n",
    "actions = []\n",
    "prompt = \"In: What action should the robot take to pick the cucumber and place it near the blue box and banana?\\nOut:\"\n",
    "length = 50\n",
    "for i in tqdm(range(0, length)):\n",
    "    image_path = \"../data/test/2022-12-08_15-22-17/raw/traj_group0/traj0/images0/im_\" + str(i) + \".jpg\"\n",
    "    image: Image.Image = Image.open(image_path)\n",
    "    inputs = processor(prompt, image).to(\"cuda:0\", dtype=torch.bfloat16)\n",
    "    action = vla.predict_action(**inputs, unnorm_key=\"bridge_orig\", do_sample=False)\n",
    "    actions.append(action)\n",
    "\n",
    "for i in range(0, length):\n",
    "    print(actions[i])"
   ]
  },
  {
   "cell_type": "code",
   "execution_count": null,
   "metadata": {},
   "outputs": [],
   "source": [
    "import pickle\n",
    "\n",
    "file_name = \"agent_data.pkl\"  # obs_dict.pkl, policy_out.pkl\n",
    "# 打开一个文件用于读取\n",
    "with open('../data/tabletop_dark_wood/pnp_sweep/00/2023-01-26_15-06-44/raw/traj_group0/traj0/' + file_name, 'rb') as f:\n",
    "    # 使用pickle.load()从文件中读取序列化的对象并还原为原来的Python对象\n",
    "    loaded_data = pickle.load(f)\n",
    "\n",
    "# 打印加载的数据\n",
    "print(loaded_data)\n"
   ]
  },
  {
   "cell_type": "code",
   "execution_count": null,
   "metadata": {},
   "outputs": [],
   "source": []
  }
 ],
 "metadata": {
  "kernelspec": {
   "display_name": "openvla",
   "language": "python",
   "name": "python3"
  },
  "language_info": {
   "codemirror_mode": {
    "name": "ipython",
    "version": 3
   },
   "file_extension": ".py",
   "mimetype": "text/x-python",
   "name": "python",
   "nbconvert_exporter": "python",
   "pygments_lexer": "ipython3",
   "version": "3.11.10"
  }
 },
 "nbformat": 4,
 "nbformat_minor": 2
}
